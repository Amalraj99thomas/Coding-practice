{
 "cells": [
  {
   "cell_type": "code",
   "execution_count": 2,
   "metadata": {},
   "outputs": [],
   "source": [
    "class node:\n",
    "\n",
    "    def __init__(self, value):\n",
    "        self.data = value\n",
    "        self.next = None"
   ]
  },
  {
   "cell_type": "code",
   "execution_count": 7,
   "metadata": {},
   "outputs": [],
   "source": [
    "# Define nodes to link manually\n",
    "node1 = node(45)\n",
    "node2 = node('hi')\n",
    "node3 = node(700)"
   ]
  },
  {
   "cell_type": "code",
   "execution_count": 8,
   "metadata": {},
   "outputs": [],
   "source": [
    "# manually connect nodes\n",
    "node1.next = node2\n",
    "node2.next = node3"
   ]
  },
  {
   "cell_type": "code",
   "execution_count": 1,
   "metadata": {},
   "outputs": [],
   "source": [
    "class Node:\n",
    "\n",
    "    def __init__(self, value):\n",
    "        self.data = value\n",
    "        self.next = None"
   ]
  },
  {
   "cell_type": "code",
   "execution_count": 18,
   "metadata": {},
   "outputs": [],
   "source": [
    "class LinkedList:\n",
    "\n",
    "    def __init__(self):\n",
    "\n",
    "        #initialize an empty linked list\n",
    "        self.head = None\n",
    "        self.nnodes = 0  #number of nodes\n",
    "\n",
    "    # length of linked list\n",
    "    def __len__(self):\n",
    "        return self.nnodes\n",
    "    \n",
    "    # insert node from the head\n",
    "    def insert_head(self, value):\n",
    "        \n",
    "        # new node\n",
    "        new_node = Node(value)\n",
    "        # connect new node to current head node\n",
    "        new_node.next = self.head\n",
    "        # store the new node as new head node\n",
    "        self.head = new_node\n",
    "        # increment number of nodes\n",
    "        self.nnodes = self.nnodes + 1\n",
    "\n",
    "    # traversing the list\n",
    "    def traverse(self):\n",
    "        # assign a temp node to the head\n",
    "        temp = self.head\n",
    "        \n",
    "        while temp != None:\n",
    "            print(temp.data)\n",
    "            temp = temp.next\n",
    "\n",
    "    # to print the linked list\n",
    "    def __str__(self):\n",
    "\n",
    "        temp = self.head\n",
    "        result = ''\n",
    "        # Note: Each node contains two attributes: \n",
    "        # 1> data, containing value\n",
    "        # 2> next, address pointer, pointing to the next node\n",
    "        while temp != None:\n",
    "            result = result + str(temp.data) + '->'\n",
    "            temp = temp.next\n",
    "        return result[:-2]  #remove the last ->\n"
   ]
  },
  {
   "cell_type": "code",
   "execution_count": 19,
   "metadata": {},
   "outputs": [],
   "source": [
    "LL = LinkedList()"
   ]
  },
  {
   "cell_type": "code",
   "execution_count": 20,
   "metadata": {},
   "outputs": [],
   "source": [
    "LL.insert_head(1)\n",
    "LL.insert_head(2)\n",
    "LL.insert_head(3)\n",
    "LL.insert_head(4)\n",
    "# LL is 4, 3, 2, 1. 1 was first inserted through the head"
   ]
  },
  {
   "cell_type": "code",
   "execution_count": 21,
   "metadata": {},
   "outputs": [
    {
     "name": "stdout",
     "output_type": "stream",
     "text": [
      "4->3->2->1-\n"
     ]
    }
   ],
   "source": [
    "print(LL)"
   ]
  },
  {
   "cell_type": "code",
   "execution_count": null,
   "metadata": {},
   "outputs": [],
   "source": []
  }
 ],
 "metadata": {
  "kernelspec": {
   "display_name": "coding",
   "language": "python",
   "name": "python3"
  },
  "language_info": {
   "codemirror_mode": {
    "name": "ipython",
    "version": 3
   },
   "file_extension": ".py",
   "mimetype": "text/x-python",
   "name": "python",
   "nbconvert_exporter": "python",
   "pygments_lexer": "ipython3",
   "version": "3.8.18"
  }
 },
 "nbformat": 4,
 "nbformat_minor": 2
}
