{
 "cells": [
  {
   "cell_type": "code",
   "execution_count": 3,
   "metadata": {},
   "outputs": [],
   "source": [
    "class Node():\n",
    "    def __init__(self, value):\n",
    "        self.data = value\n",
    "        self.next = None"
   ]
  },
  {
   "cell_type": "code",
   "execution_count": 11,
   "metadata": {},
   "outputs": [],
   "source": [
    "class Queue():\n",
    "    def __init__(self):\n",
    "        self.front = None\n",
    "        self.rear = None\n",
    "\n",
    "    def is_empty(self):\n",
    "        return self.front == None\n",
    "    \n",
    "    def size(self):\n",
    "        counter = 0\n",
    "        if (self.is_empty()):\n",
    "            return 'Empty Queue'\n",
    "        else: \n",
    "            temp = self.front\n",
    "            while temp:\n",
    "                counter = counter + 1\n",
    "                temp = temp.next\n",
    "        return counter\n",
    "\n",
    "    # add item to the rear of the queue\n",
    "    def enqueue(self, value):\n",
    "         new_node = Node(value)\n",
    "\n",
    "         # if Q is empty\n",
    "         if (self.rear == None):\n",
    "             self.front = new_node\n",
    "             self.rear = self.front\n",
    "             # both are the same -  new node\n",
    "         else:\n",
    "             self.rear.next = new_node\n",
    "             self.rear = new_node\n",
    "\n",
    "    # remove item from the front of the queue\n",
    "    def dequeue(self):\n",
    "\n",
    "        # if Q is empty\n",
    "        if self.front == None:\n",
    "            return \"Empty queue\"\n",
    "        else:\n",
    "            self.front = self.front.next\n",
    "\n",
    "    # traverse the queue\n",
    "    def traverse(self):\n",
    "\n",
    "        temp = self.front\n",
    "\n",
    "        while temp != None:\n",
    "            print(temp.data, end=' ')\n",
    "            temp = temp.next\n",
    "            \n",
    "    # peak the front and rear\n",
    "    def peak_front(self):\n",
    "        if (self.is_empty()):\n",
    "            return 'Empty Queue'\n",
    "        else:\n",
    "            return self.front.data\n",
    "        \n",
    "    def peak_rear(self):\n",
    "        if (self.is_empty()):\n",
    "            return 'Empty Queue'\n",
    "        else:\n",
    "            return self.rear.data\n",
    "            \n",
    "            \n"
   ]
  },
  {
   "cell_type": "code",
   "execution_count": 12,
   "metadata": {},
   "outputs": [],
   "source": [
    "q = Queue()"
   ]
  },
  {
   "cell_type": "code",
   "execution_count": 13,
   "metadata": {},
   "outputs": [],
   "source": [
    "q.enqueue(13)\n",
    "q.enqueue(15)\n",
    "q.enqueue(17)"
   ]
  },
  {
   "cell_type": "code",
   "execution_count": 14,
   "metadata": {},
   "outputs": [
    {
     "name": "stdout",
     "output_type": "stream",
     "text": [
      "13 15 17 "
     ]
    }
   ],
   "source": [
    "q.traverse()"
   ]
  },
  {
   "cell_type": "code",
   "execution_count": 17,
   "metadata": {},
   "outputs": [
    {
     "data": {
      "text/plain": [
       "False"
      ]
     },
     "execution_count": 17,
     "metadata": {},
     "output_type": "execute_result"
    }
   ],
   "source": [
    "q.is_empty()"
   ]
  },
  {
   "cell_type": "code",
   "execution_count": null,
   "metadata": {},
   "outputs": [],
   "source": []
  }
 ],
 "metadata": {
  "kernelspec": {
   "display_name": "coding",
   "language": "python",
   "name": "python3"
  },
  "language_info": {
   "codemirror_mode": {
    "name": "ipython",
    "version": 3
   },
   "file_extension": ".py",
   "mimetype": "text/x-python",
   "name": "python",
   "nbconvert_exporter": "python",
   "pygments_lexer": "ipython3",
   "version": "3.8.18"
  }
 },
 "nbformat": 4,
 "nbformat_minor": 2
}
