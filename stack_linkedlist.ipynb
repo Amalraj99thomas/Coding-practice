{
 "cells": [
  {
   "cell_type": "code",
   "execution_count": 5,
   "metadata": {},
   "outputs": [],
   "source": [
    "class Node():\n",
    "    def __init__(self, value):\n",
    "        self.data = value\n",
    "        self.next = None"
   ]
  },
  {
   "cell_type": "code",
   "execution_count": 14,
   "metadata": {},
   "outputs": [],
   "source": [
    "class Stack():\n",
    "    def __init__(self):\n",
    "        self.top = None\n",
    "\n",
    "    def isempty(self):\n",
    "        return self.top == None\n",
    "    \n",
    "    def size(self):\n",
    "        counter = 0\n",
    "        if (self.isempty()):\n",
    "            return 'Empty Stack'\n",
    "        else: \n",
    "            temp = self.top\n",
    "            while temp:\n",
    "                counter = counter + 1\n",
    "                temp = temp.next\n",
    "        return counter\n",
    "    \n",
    "    def push(self, value):\n",
    "        new_node = Node(value)\n",
    "        new_node.next = self.top\n",
    "        self.top = new_node\n",
    "\n",
    "    def peek(self):\n",
    "        if(self.isempty()):\n",
    "            return 'Empty Stack'\n",
    "        else:\n",
    "            return self.top.data\n",
    "        \n",
    "    def pop(self):\n",
    "        if(self.isempty()):\n",
    "            return 'Empty Stack'\n",
    "        else:\n",
    "            data = self.top.data\n",
    "            self.top = self.top.next\n",
    "            return data\n",
    "        \n",
    "    def traverse(self):\n",
    "        temp = self.top\n",
    "        while temp != None:\n",
    "            print(temp.data)\n",
    "            temp = temp.next\n",
    "\n"
   ]
  },
  {
   "cell_type": "code",
   "execution_count": 11,
   "metadata": {},
   "outputs": [],
   "source": [
    "s = Stack()"
   ]
  },
  {
   "cell_type": "code",
   "execution_count": 12,
   "metadata": {},
   "outputs": [],
   "source": [
    "s.push(2)\n",
    "s.push(5)\n",
    "s.push(7)"
   ]
  },
  {
   "cell_type": "code",
   "execution_count": 13,
   "metadata": {},
   "outputs": [
    {
     "data": {
      "text/plain": [
       "3"
      ]
     },
     "execution_count": 13,
     "metadata": {},
     "output_type": "execute_result"
    }
   ],
   "source": [
    "s.size()"
   ]
  },
  {
   "cell_type": "code",
   "execution_count": 25,
   "metadata": {},
   "outputs": [
    {
     "data": {
      "text/plain": [
       "'Empty Stack'"
      ]
     },
     "execution_count": 25,
     "metadata": {},
     "output_type": "execute_result"
    }
   ],
   "source": [
    "s.pop()"
   ]
  },
  {
   "cell_type": "code",
   "execution_count": 15,
   "metadata": {},
   "outputs": [],
   "source": [
    "# function to reverse a string and return\n",
    "def reverse_string(text):\n",
    "\n",
    "    s = Stack()\n",
    "    rev = \"\"\n",
    "\n",
    "    # push each char into stack\n",
    "    for i in text:\n",
    "        s.push(i)\n",
    "\n",
    "    # pop the stack one char at a time\n",
    "    while(not s.isempty()):\n",
    "        rev = rev + s.pop() \n",
    "        # _ + o -> o\n",
    "        # o + l -> ol\n",
    "        # ol + l -> oll\n",
    "        # oll + e -> olle\n",
    "        # olle + h -> olleh\n",
    "\n",
    "    print(rev)"
   ]
  },
  {
   "cell_type": "code",
   "execution_count": 18,
   "metadata": {},
   "outputs": [
    {
     "name": "stdout",
     "output_type": "stream",
     "text": [
      "jaRlamA\n"
     ]
    }
   ],
   "source": [
    "result = reverse_string('AmalRaj')"
   ]
  },
  {
   "cell_type": "code",
   "execution_count": 10,
   "metadata": {},
   "outputs": [],
   "source": [
    "# function to apply undo-redo to a string\n",
    "def text_editor(text, operation):\n",
    "\n",
    "    u = Stack()\n",
    "    r = Stack()\n",
    "\n",
    "    for i in text:\n",
    "        u.push(i)\n",
    "\n",
    "    for o in operation:\n",
    "        if o == 'u':\n",
    "            data = u.pop()\n",
    "            r.push(data)\n",
    "\n",
    "        else: \n",
    "            data = r.pop()\n",
    "            u.push(data)\n",
    "\n",
    "    res = \"\"\n",
    "\n",
    "    while(not u.isempty()):\n",
    "        res = u.pop() + res \n",
    "\n",
    "    print(res)\n",
    "\n"
   ]
  },
  {
   "cell_type": "code",
   "execution_count": 13,
   "metadata": {},
   "outputs": [
    {
     "name": "stdout",
     "output_type": "stream",
     "text": [
      "hel\n"
     ]
    }
   ],
   "source": [
    "result = text_editor('hello', 'uuur')"
   ]
  },
  {
   "cell_type": "code",
   "execution_count": 25,
   "metadata": {},
   "outputs": [],
   "source": [
    "# Celebrity Problem:\n",
    "\n",
    "Matrix = [[0,0,1,1],\n",
    "          [0,0,1,1],\n",
    "          [1,0,0,1],\n",
    "          [0,0,0,1]]"
   ]
  },
  {
   "cell_type": "code",
   "execution_count": 26,
   "metadata": {},
   "outputs": [],
   "source": [
    "# function to find the celebrity\n",
    "\n",
    "def findceleb(matrix):\n",
    "    \n",
    "    s = Stack()\n",
    "\n",
    "    # populate the stack\n",
    "    for i in range(len(matrix)):\n",
    "        s.push(i)\n",
    "\n",
    "    while s.size() >= 2:\n",
    "\n",
    "        celebA = s.pop()\n",
    "        celebB = s.pop()\n",
    "\n",
    "        if matrix[celebA][celebB] == 0:\n",
    "            # celebA doesnt know celebB\n",
    "            # celebB is not a celebrity\n",
    "            s.push(celebA)\n",
    "\n",
    "        else:\n",
    "            # celebA does know celebB\n",
    "            # celebA is not a celebrity\n",
    "            s.push(celebB)\n",
    "\n",
    "    celeb = s.pop()\n",
    "\n",
    "    # Check if celeb is truely celeb\n",
    "\n",
    "    for i in range(len(matrix)):\n",
    "\n",
    "        if i != celeb:\n",
    "            if matrix[celeb][i] == 1 or matrix[i][celeb] == 0:\n",
    "                return 'No celebrity'\n",
    "            \n",
    "    print ('The celebrity is', celeb)"
   ]
  },
  {
   "cell_type": "code",
   "execution_count": 27,
   "metadata": {},
   "outputs": [
    {
     "name": "stdout",
     "output_type": "stream",
     "text": [
      "The celebrity is 3\n"
     ]
    }
   ],
   "source": [
    "findceleb(Matrix)"
   ]
  },
  {
   "cell_type": "code",
   "execution_count": null,
   "metadata": {},
   "outputs": [],
   "source": [
    "# function to find balanced parentheses\n",
    "\n"
   ]
  }
 ],
 "metadata": {
  "kernelspec": {
   "display_name": "coding",
   "language": "python",
   "name": "python3"
  },
  "language_info": {
   "codemirror_mode": {
    "name": "ipython",
    "version": 3
   },
   "file_extension": ".py",
   "mimetype": "text/x-python",
   "name": "python",
   "nbconvert_exporter": "python",
   "pygments_lexer": "ipython3",
   "version": "3.8.18"
  }
 },
 "nbformat": 4,
 "nbformat_minor": 2
}
