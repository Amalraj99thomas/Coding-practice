{
 "cells": [
  {
   "cell_type": "code",
   "execution_count": 1,
   "metadata": {},
   "outputs": [],
   "source": [
    "import sys"
   ]
  },
  {
   "cell_type": "code",
   "execution_count": 3,
   "metadata": {},
   "outputs": [
    {
     "name": "stdout",
     "output_type": "stream",
     "text": [
      "0 56\n",
      "1 88\n",
      "2 88\n",
      "3 88\n",
      "4 88\n",
      "5 120\n",
      "6 120\n",
      "7 120\n",
      "8 120\n",
      "9 184\n",
      "10 184\n",
      "11 184\n",
      "12 184\n",
      "13 184\n",
      "14 184\n",
      "15 184\n",
      "16 184\n",
      "17 256\n",
      "18 256\n",
      "19 256\n",
      "20 256\n",
      "21 256\n",
      "22 256\n",
      "23 256\n",
      "24 256\n",
      "25 256\n",
      "26 336\n",
      "27 336\n",
      "28 336\n",
      "29 336\n",
      "30 336\n",
      "31 336\n",
      "32 336\n",
      "33 336\n",
      "34 336\n",
      "35 336\n",
      "36 424\n",
      "37 424\n",
      "38 424\n",
      "39 424\n",
      "40 424\n",
      "41 424\n",
      "42 424\n",
      "43 424\n",
      "44 424\n",
      "45 424\n",
      "46 424\n",
      "47 520\n",
      "48 520\n",
      "49 520\n",
      "50 520\n",
      "51 520\n",
      "52 520\n",
      "53 520\n",
      "54 520\n",
      "55 520\n",
      "56 520\n",
      "57 520\n",
      "58 520\n",
      "59 632\n",
      "60 632\n",
      "61 632\n",
      "62 632\n",
      "63 632\n",
      "64 632\n",
      "65 632\n",
      "66 632\n",
      "67 632\n",
      "68 632\n",
      "69 632\n",
      "70 632\n",
      "71 632\n",
      "72 632\n",
      "73 760\n",
      "74 760\n",
      "75 760\n",
      "76 760\n",
      "77 760\n",
      "78 760\n",
      "79 760\n",
      "80 760\n",
      "81 760\n",
      "82 760\n",
      "83 760\n",
      "84 760\n",
      "85 760\n",
      "86 760\n",
      "87 760\n",
      "88 760\n",
      "89 904\n",
      "90 904\n",
      "91 904\n",
      "92 904\n",
      "93 904\n",
      "94 904\n",
      "95 904\n",
      "96 904\n",
      "97 904\n",
      "98 904\n",
      "99 904\n"
     ]
    }
   ],
   "source": [
    "# How a list in python behaves like a Dynamic array...\n",
    "L = []\n",
    "\n",
    "for i in range(100):\n",
    "    print(i, sys.getsizeof(L))\n",
    "    L.append(i)"
   ]
  },
  {
   "cell_type": "code",
   "execution_count": 4,
   "metadata": {},
   "outputs": [],
   "source": [
    "import ctypes"
   ]
  },
  {
   "cell_type": "code",
   "execution_count": 37,
   "metadata": {},
   "outputs": [],
   "source": [
    "class customList:\n",
    "\n",
    "    def __init__(self):\n",
    "        self.size = 1\n",
    "        self.content = 0  #Number of items\n",
    "        #create an array with size = self.size\n",
    "        self.array = self.createArray(self.size)\n",
    "\n",
    "    # To get the length of the list\n",
    "    def __len__(self):\n",
    "        return self.content\n",
    "    \n",
    "    def __str__(self):\n",
    "        # [1,2,3]\n",
    "        display = ''\n",
    "        for i in range(self.content):\n",
    "            display = display + str(self.array[i]) + ','\n",
    "\n",
    "        return '[' + display[:-1] + ']'\n",
    "\n",
    "    \n",
    "    # To add items to the list\n",
    "    def append(self,item):\n",
    "        if self.size == self.content:\n",
    "            #resize array\n",
    "            self.resize(self.size*2)\n",
    "        \n",
    "        # At index self.content, store item\n",
    "        self.array[self.content] = item\n",
    "        self.content = self.content + 1\n",
    "\n",
    "    def resize(self, new_capacity):\n",
    "        # creating a temp array to increase capacity\n",
    "        temp_array = self.createArray(new_capacity)\n",
    "        self.size = new_capacity\n",
    "\n",
    "        #copy the contents\n",
    "        for i in range(self.content):\n",
    "            temp_array[i] = self.array[i]\n",
    "\n",
    "        #reassign to original array\n",
    "        self.array = temp_array\n",
    "\n",
    "\n",
    "    def createArray(self, capacity):\n",
    "        return (capacity*ctypes.py_object)()\n",
    "        # creates a C type array (static, referential) with size = capacity"
   ]
  },
  {
   "cell_type": "code",
   "execution_count": 38,
   "metadata": {},
   "outputs": [],
   "source": [
    "ListObject = customList()"
   ]
  },
  {
   "cell_type": "code",
   "execution_count": 39,
   "metadata": {},
   "outputs": [
    {
     "data": {
      "text/plain": [
       "__main__.customList"
      ]
     },
     "execution_count": 39,
     "metadata": {},
     "output_type": "execute_result"
    }
   ],
   "source": [
    "type(ListObject)"
   ]
  },
  {
   "cell_type": "code",
   "execution_count": 40,
   "metadata": {},
   "outputs": [],
   "source": [
    "ListObject = [2,4,8,16,64]"
   ]
  },
  {
   "cell_type": "code",
   "execution_count": 41,
   "metadata": {},
   "outputs": [],
   "source": [
    "ListObject.append('word')\n",
    "ListObject.append(0.45)\n",
    "ListObject.append(True)\n"
   ]
  },
  {
   "cell_type": "code",
   "execution_count": 42,
   "metadata": {},
   "outputs": [
    {
     "name": "stdout",
     "output_type": "stream",
     "text": [
      "[2, 4, 8, 16, 64, 'word', 0.45, True]\n"
     ]
    }
   ],
   "source": [
    "print(ListObject)"
   ]
  },
  {
   "cell_type": "code",
   "execution_count": null,
   "metadata": {},
   "outputs": [],
   "source": []
  }
 ],
 "metadata": {
  "kernelspec": {
   "display_name": "coding",
   "language": "python",
   "name": "python3"
  },
  "language_info": {
   "codemirror_mode": {
    "name": "ipython",
    "version": 3
   },
   "file_extension": ".py",
   "mimetype": "text/x-python",
   "name": "python",
   "nbconvert_exporter": "python",
   "pygments_lexer": "ipython3",
   "version": "3.8.18"
  }
 },
 "nbformat": 4,
 "nbformat_minor": 2
}
