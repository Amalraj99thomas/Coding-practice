{
 "cells": [
  {
   "cell_type": "code",
   "execution_count": 1,
   "metadata": {},
   "outputs": [],
   "source": [
    "# In python there are lists instead of arrays!\n",
    "\n",
    "# The lists are such that they can be dynamic and can be used as Stacks/Queues"
   ]
  },
  {
   "cell_type": "code",
   "execution_count": 29,
   "metadata": {},
   "outputs": [],
   "source": [
    "class Stack(object):\n",
    "    def __init__(self, size):\n",
    "        self.size = size\n",
    "        self.__stack = [None] * self.size\n",
    "        self.top = -1   #pointer varaible\n",
    "\n",
    "    def push(self, value):\n",
    "\n",
    "        # check if stack has space\n",
    "        if (self.top == self.size - 1):   #if pointer is at the end of the stack\n",
    "            return 'Stack full'\n",
    "        else:\n",
    "            self.top += 1\n",
    "            self.stack[self.top] = value\n",
    "\n",
    "    def pop(self):\n",
    "\n",
    "        #check is stack is empty\n",
    "        if self.top == -1:\n",
    "            return \"empty stack\"\n",
    "        else:\n",
    "            data = self.stack[self.top]\n",
    "            self.top -= 1\n",
    "            print(data)\n",
    "            \n",
    "    def traverse(self):\n",
    "\n",
    "        # print the stack as array\n",
    "        for i in range(self.top + 1):\n",
    "            print(self.stack[i], end=' ')"
   ]
  },
  {
   "cell_type": "code",
   "execution_count": 30,
   "metadata": {},
   "outputs": [],
   "source": [
    "s = Stack(3)"
   ]
  },
  {
   "cell_type": "code",
   "execution_count": 32,
   "metadata": {},
   "outputs": [
    {
     "ename": "AttributeError",
     "evalue": "'Stack' object has no attribute '__stack'",
     "output_type": "error",
     "traceback": [
      "\u001b[1;31m---------------------------------------------------------------------------\u001b[0m",
      "\u001b[1;31mAttributeError\u001b[0m                            Traceback (most recent call last)",
      "Cell \u001b[1;32mIn[32], line 3\u001b[0m\n\u001b[0;32m      1\u001b[0m \u001b[38;5;66;03m# python is printing stack as a list. \u001b[39;00m\n\u001b[0;32m      2\u001b[0m \u001b[38;5;66;03m# Hence does not get updated when you pop\u001b[39;00m\n\u001b[1;32m----> 3\u001b[0m \u001b[43ms\u001b[49m\u001b[38;5;241;43m.\u001b[39;49m\u001b[43m__stack\u001b[49m\n",
      "\u001b[1;31mAttributeError\u001b[0m: 'Stack' object has no attribute '__stack'"
     ]
    }
   ],
   "source": [
    "# python is printing stack as a list. \n",
    "# Hence does not get updated when you pop\n",
    "s.stack"
   ]
  },
  {
   "cell_type": "code",
   "execution_count": 27,
   "metadata": {},
   "outputs": [],
   "source": [
    "s.push(4)\n",
    "s.push(6)\n",
    "s.push(8)"
   ]
  },
  {
   "cell_type": "code",
   "execution_count": 16,
   "metadata": {},
   "outputs": [
    {
     "name": "stdout",
     "output_type": "stream",
     "text": [
      "4\n"
     ]
    }
   ],
   "source": [
    "s.pop()"
   ]
  },
  {
   "cell_type": "code",
   "execution_count": 28,
   "metadata": {},
   "outputs": [
    {
     "name": "stdout",
     "output_type": "stream",
     "text": [
      "4 6 8 "
     ]
    }
   ],
   "source": [
    "s.traverse()"
   ]
  },
  {
   "cell_type": "code",
   "execution_count": null,
   "metadata": {},
   "outputs": [],
   "source": []
  }
 ],
 "metadata": {
  "kernelspec": {
   "display_name": "coding",
   "language": "python",
   "name": "python3"
  },
  "language_info": {
   "codemirror_mode": {
    "name": "ipython",
    "version": 3
   },
   "file_extension": ".py",
   "mimetype": "text/x-python",
   "name": "python",
   "nbconvert_exporter": "python",
   "pygments_lexer": "ipython3",
   "version": "3.8.18"
  }
 },
 "nbformat": 4,
 "nbformat_minor": 2
}
