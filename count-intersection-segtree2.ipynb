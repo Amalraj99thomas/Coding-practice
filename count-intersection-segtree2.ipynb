{
 "cells": [
  {
   "cell_type": "code",
   "execution_count": 1,
   "metadata": {},
   "outputs": [],
   "source": [
    "class SegmentTree:\n",
    "    def __init__(self, n):\n",
    "        self.n = n\n",
    "        self.tree = [0] * (4 * n)\n",
    "        self.lazy = [0] * (4 * n)\n",
    "\n",
    "    def update_range(self, node, start, end, l, r, val):\n",
    "        if self.lazy[node] != 0:\n",
    "            self.tree[node] += (end - start + 1) * self.lazy[node]\n",
    "            if start != end:\n",
    "                self.lazy[node * 2] += self.lazy[node]\n",
    "                self.lazy[node * 2 + 1] += self.lazy[node]\n",
    "            self.lazy[node] = 0\n",
    "\n",
    "        if start > end or start > r or end < l:\n",
    "            return\n",
    "\n",
    "        if start >= l and end <= r:\n",
    "            self.tree[node] += (end - start + 1) * val\n",
    "            if start != end:\n",
    "                self.lazy[node * 2] += val\n",
    "                self.lazy[node * 2 + 1] += val\n",
    "            return\n",
    "\n",
    "        mid = (start + end) // 2\n",
    "        self.update_range(node * 2, start, mid, l, r, val)\n",
    "        self.update_range(node * 2 + 1, mid + 1, end, l, r, val)\n",
    "        self.tree[node] = self.tree[node * 2] + self.tree[node * 2 + 1]\n",
    "\n",
    "    def query_range(self, node, start, end, l, r):\n",
    "        if start > end or start > r or end < l:\n",
    "            return 0\n",
    "\n",
    "        if self.lazy[node] != 0:\n",
    "            self.tree[node] += (end - start + 1) * self.lazy[node]\n",
    "            if start != end:\n",
    "                self.lazy[node * 2] += self.lazy[node]\n",
    "                self.lazy[node * 2 + 1] += self.lazy[node]\n",
    "            self.lazy[node] = 0\n",
    "\n",
    "        if start >= l and end <= r:\n",
    "            return self.tree[node]\n",
    "\n",
    "        mid = (start + end) // 2\n",
    "        p1 = self.query_range(node * 2, start, mid, l, r)\n",
    "        p2 = self.query_range(node * 2 + 1, mid + 1, end, l, r)\n",
    "        return p1 + p2\n"
   ]
  },
  {
   "cell_type": "code",
   "execution_count": 4,
   "metadata": {},
   "outputs": [],
   "source": [
    "def count_intersections(radians, identifiers):\n",
    "    chords = sorted(zip(radians, identifiers), key=lambda x: x[0])\n",
    "    id_map = {}\n",
    "    endpoints = []\n",
    "    for radian, identifier in chords:\n",
    "        base_id = ''.join(filter(str.isdigit, identifier))  # Extract digits to handle both formats\n",
    "        is_start = identifier.startswith(\"s\")\n",
    "        if is_start:\n",
    "            id_map[base_id] = len(id_map) + 1\n",
    "        chord_id = id_map[base_id]\n",
    "        endpoints.append((radian, chord_id, is_start))\n",
    "    \n",
    "    intersections = 0\n",
    "    segment_tree = SegmentTree(len(id_map))\n",
    "    for _, chord_id, is_start in sorted(endpoints):\n",
    "        if is_start:\n",
    "            segment_tree.update_range(1, 1, len(id_map), chord_id, chord_id, 1)\n",
    "        else:\n",
    "            segment_tree.update_range(1, 1, len(id_map), chord_id, chord_id, -1)\n",
    "            intersections += segment_tree.query_range(1, 1, len(id_map), chord_id + 1, len(id_map))\n",
    "    \n",
    "    return intersections\n"
   ]
  },
  {
   "cell_type": "code",
   "execution_count": 8,
   "metadata": {},
   "outputs": [
    {
     "name": "stdout",
     "output_type": "stream",
     "text": [
      "2\n"
     ]
    }
   ],
   "source": [
    "# radians = [0.78, 1.47, 1.77, 3.92]\n",
    "# identifiers = [\"s_1\", \"s_2\", \"e_1\", \"e_2\"]\n",
    "\n",
    "# radians = [0.9, 1.3, 1.70, 2.92]\n",
    "# identifiers = [\"s1\", \"e1\", \"s2\", \"e2\"]\n",
    "\n",
    "radians = [0.78, 0.9, 1.3, 1.47, 1.70, 1.77, 2.92, 3.92]\n",
    "identifiers = [\"s_1\", \"s_2\", \"e_1\", \"e_2\", \"s_3\", \"s_4\", \"e_3\", \"e_4\"]\n",
    "\n",
    "print(count_intersections(radians, identifiers)) "
   ]
  },
  {
   "cell_type": "code",
   "execution_count": null,
   "metadata": {},
   "outputs": [],
   "source": []
  }
 ],
 "metadata": {
  "kernelspec": {
   "display_name": "coding",
   "language": "python",
   "name": "python3"
  },
  "language_info": {
   "codemirror_mode": {
    "name": "ipython",
    "version": 3
   },
   "file_extension": ".py",
   "mimetype": "text/x-python",
   "name": "python",
   "nbconvert_exporter": "python",
   "pygments_lexer": "ipython3",
   "version": "3.8.18"
  }
 },
 "nbformat": 4,
 "nbformat_minor": 2
}
